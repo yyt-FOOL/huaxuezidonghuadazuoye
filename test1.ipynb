{
 "cells": [
  {
   "cell_type": "code",
   "execution_count": 15,
   "metadata": {},
   "outputs": [],
   "source": [
    "import numpy as np\n",
    "import matplotlib.pyplot as plt\n",
    "from math import pi,cos,sin\n",
    "from scipy.linalg import logm"
   ]
  },
  {
   "cell_type": "code",
   "execution_count": 16,
   "metadata": {},
   "outputs": [],
   "source": [
    "#将从示教器读取的数据转化为旋转矩阵和平移矩阵\n",
    "def data_transform(M):\n",
    "    T=np.array(M[:3]).reshape(-1,1)\n",
    "    rota=M[3]*pi/180\n",
    "    rotb=M[4]*pi/180\n",
    "    rotc=M[5]*pi/180\n",
    "    Rx=np.array([[1,0,0],[0,cos(rota),-sin(rota)],[0,sin(rota),cos(rota)]])\n",
    "    Ry=np.array([[cos(rotb),0,sin(rotb)],[0,1,0],[-sin(rotb),0,cos(rotb)]])\n",
    "    Rz=np.array([[cos(rotc),-sin(rotc),0],[sin(rotc),cos(rotc),0],[0,0,1]])\n",
    "    R=np.dot(Rz,np.dot(Ry,Rx))\n",
    "    h_stack=np.hstack((R,T))\n",
    "    one=np.array([0,0,0,1])\n",
    "    TR=np.vstack((h_stack,one))\n",
    "    return TR"
   ]
  },
  {
   "cell_type": "code",
   "execution_count": 17,
   "metadata": {},
   "outputs": [],
   "source": [
    "def skew(x):\n",
    "    sk=np.array([[0,-x[2,0],x[1,0]],\n",
    "                 [x[2,0],0,-x[0,0]],\n",
    "                 [-x[1,0],x[0,0],0]\n",
    "                 ])\n",
    "    return sk"
   ]
  },
  {
   "cell_type": "code",
   "execution_count": 18,
   "metadata": {},
   "outputs": [],
   "source": [
    "def calculate_fixed_point(fix_point,R,position):\n",
    "    k1=(fix_point[3]-fix_point[1])/(fix_point[2]-fix_point[0])#k1=(y2-y1)/(x2-x1)\n",
    "    k2=(fix_point[7]-fix_point[5])/(fix_point[6]-fix_point[4])#k2=(y4-y3)/(x4-x3)\n",
    "    k11=-1/k1#垂直平分线1的斜率\n",
    "    k22=-1/k2#垂直平分线2的斜率\n",
    "    x01=(fix_point[0]+fix_point[2])/2#x01=(x1+x2)/2——中点1的横坐标\n",
    "    y01=(fix_point[1]+fix_point[3])/2#y01=(y1+y2)/2——中点1的纵坐标\n",
    "    x02=(fix_point[4]+fix_point[6])/2#x02=(x3+x4)/2——中点2的横坐标\n",
    "    y02=(fix_point[5]+fix_point[7])/2#y02=(y3+y4)/2——中点2的纵坐标\n",
    "    x=((k11*x01-y01)-(k22*x02-y02))/(k11-k22)\n",
    "    y=k11*(x-x01)+y01#(x,y)为圆心O'的坐标\n",
    "    r2=(x-fix_point[0])**2+(y-fix_point[1])**2\n",
    "    #得到圆心的x,y坐标后还需要求解z坐标\n",
    "    distance=(R**2-r2)**0.5#z方向的垂直距离\n",
    "    if position==1:\n",
    "        z=-distance\n",
    "    else:\n",
    "        z=distance\n",
    "    circle_point=np.array([x,y,z]).reshape(-1,1)\n",
    "    I=np.eye(3)\n",
    "    h_stack=np.hstack((I,circle_point))\n",
    "    one=np.array([0,0,0,1])\n",
    "    TC=np.vstack((h_stack,one))\n",
    "    return TC"
   ]
  },
  {
   "cell_type": "code",
   "execution_count": 19,
   "metadata": {},
   "outputs": [],
   "source": [
    "def axis_transformtion(x):\n",
    "    result=[]\n",
    "    for i in [0,2,4,6]:\n",
    "        x0=x[i]*cos(x[i+1]/180*pi)\n",
    "        y0=x[i]*sin(x[i+1]/180*pi)\n",
    "        result.append(x0)\n",
    "        result.append(y0)\n",
    "    return result"
   ]
  },
  {
   "cell_type": "code",
   "execution_count": 20,
   "metadata": {},
   "outputs": [],
   "source": [
    "#通过tasi算法计算手眼标定矩阵\n",
    "#函数说明：计算AX=XB解的最小方差\n",
    "#算法作者:Lenz Shah\n",
    "def tasi(A,B):\n",
    "    n=int(A.shape[1]/4)#获取方程的个数\n",
    "    S=np.zeros((3*n,3))#用于存储计算得到的旋转矩阵\n",
    "    v=np.zeros((3*n,1))#用于存储计算得到的平移矩阵\n",
    "    #计算最佳的旋转矩阵R\n",
    "    for i in range(n):\n",
    "        A1=logm(A[0:3,4*i:4*i+3])\n",
    "        B1=logm(B[0:3,4*i:4*i+3])\n",
    "        a=np.array([A1[2,1],A1[0,2],A1[1,0]]).reshape(-1,1)\n",
    "        a=a/np.linalg.norm(a)\n",
    "        b=np.array([B1[2,1],B1[0,2],B1[1,0]]).reshape(-1,1)\n",
    "        b=b/np.linalg.norm(b)\n",
    "        S[3*i:3*(i+1),:]=skew(a+b)\n",
    "        v[3*i:3*(i+1),:]=a-b\n",
    "    x,residuals,rank,s=np.linalg.lstsq(S,v,rcond=None)#求解AX=B线性方程组的解\n",
    "    theta=2*np.arctan(np.linalg.norm(x))\n",
    "    I=np.eye(3)\n",
    "    xxt=np.outer(x,x)#计算外积矩阵\n",
    "    R_T=I*np.cos(theta)+np.sin(theta)*skew(x)+(1-cos(theta))*xxt\n",
    "    R=R_T.T\n",
    "    #计算最佳平移矩阵T\n",
    "    C=np.zeros((3*n,3))\n",
    "    d=np.zeros((3*n,1))\n",
    "    for i in range(n):\n",
    "        C[3*i:3*(i+1),:]=I-A[0:3,4*i:4*i+3]\n",
    "        d[3*i:3*(i+1),:]=A[0:3,4*i+3].reshape(-1,1)-np.dot(R,B[0:3,4*i+3].reshape(-1,1))\n",
    "    t,residuals,rank,s=np.linalg.lstsq(C,d,rcond=None)\n",
    "    X1=np.hstack((R,t))\n",
    "    X=np.vstack((X1,np.array([0,0,0,1])))\n",
    "    return X"
   ]
  },
  {
   "cell_type": "code",
   "execution_count": 21,
   "metadata": {},
   "outputs": [
    {
     "name": "stderr",
     "output_type": "stream",
     "text": [
      "C:\\Users\\youyiting\\AppData\\Local\\Temp\\ipykernel_17844\\1587383431.py:15: RuntimeWarning: invalid value encountered in divide\n",
      "  b=b/np.linalg.norm(b)\n"
     ]
    },
    {
     "ename": "LinAlgError",
     "evalue": "SVD did not converge in Linear Least Squares",
     "output_type": "error",
     "traceback": [
      "\u001b[1;31m---------------------------------------------------------------------------\u001b[0m",
      "\u001b[1;31mLinAlgError\u001b[0m                               Traceback (most recent call last)",
      "Cell \u001b[1;32mIn[21], line 40\u001b[0m\n\u001b[0;32m     38\u001b[0m     X\u001b[38;5;241m=\u001b[39mtasi(A,B)\n\u001b[0;32m     39\u001b[0m     \u001b[38;5;28mprint\u001b[39m(X)\n\u001b[1;32m---> 40\u001b[0m \u001b[43mmain\u001b[49m\u001b[43m(\u001b[49m\u001b[43m)\u001b[49m\n",
      "Cell \u001b[1;32mIn[21], line 38\u001b[0m, in \u001b[0;36mmain\u001b[1;34m()\u001b[0m\n\u001b[0;32m     36\u001b[0m A\u001b[38;5;241m=\u001b[39mnp\u001b[38;5;241m.\u001b[39mhstack((TL1,TL2))\n\u001b[0;32m     37\u001b[0m B\u001b[38;5;241m=\u001b[39mnp\u001b[38;5;241m.\u001b[39mhstack((TR1,TR2))\n\u001b[1;32m---> 38\u001b[0m X\u001b[38;5;241m=\u001b[39m\u001b[43mtasi\u001b[49m\u001b[43m(\u001b[49m\u001b[43mA\u001b[49m\u001b[43m,\u001b[49m\u001b[43mB\u001b[49m\u001b[43m)\u001b[49m\n\u001b[0;32m     39\u001b[0m \u001b[38;5;28mprint\u001b[39m(X)\n",
      "Cell \u001b[1;32mIn[20], line 18\u001b[0m, in \u001b[0;36mtasi\u001b[1;34m(A, B)\u001b[0m\n\u001b[0;32m     16\u001b[0m     S[\u001b[38;5;241m3\u001b[39m\u001b[38;5;241m*\u001b[39mi:\u001b[38;5;241m3\u001b[39m\u001b[38;5;241m*\u001b[39m(i\u001b[38;5;241m+\u001b[39m\u001b[38;5;241m1\u001b[39m),:]\u001b[38;5;241m=\u001b[39mskew(a\u001b[38;5;241m+\u001b[39mb)\n\u001b[0;32m     17\u001b[0m     v[\u001b[38;5;241m3\u001b[39m\u001b[38;5;241m*\u001b[39mi:\u001b[38;5;241m3\u001b[39m\u001b[38;5;241m*\u001b[39m(i\u001b[38;5;241m+\u001b[39m\u001b[38;5;241m1\u001b[39m),:]\u001b[38;5;241m=\u001b[39ma\u001b[38;5;241m-\u001b[39mb\n\u001b[1;32m---> 18\u001b[0m x,residuals,rank,s\u001b[38;5;241m=\u001b[39m\u001b[43mnp\u001b[49m\u001b[38;5;241;43m.\u001b[39;49m\u001b[43mlinalg\u001b[49m\u001b[38;5;241;43m.\u001b[39;49m\u001b[43mlstsq\u001b[49m\u001b[43m(\u001b[49m\u001b[43mS\u001b[49m\u001b[43m,\u001b[49m\u001b[43mv\u001b[49m\u001b[43m,\u001b[49m\u001b[43mrcond\u001b[49m\u001b[38;5;241;43m=\u001b[39;49m\u001b[38;5;28;43;01mNone\u001b[39;49;00m\u001b[43m)\u001b[49m\u001b[38;5;66;03m#求解AX=B线性方程组的解\u001b[39;00m\n\u001b[0;32m     19\u001b[0m theta\u001b[38;5;241m=\u001b[39m\u001b[38;5;241m2\u001b[39m\u001b[38;5;241m*\u001b[39mnp\u001b[38;5;241m.\u001b[39marctan(np\u001b[38;5;241m.\u001b[39mlinalg\u001b[38;5;241m.\u001b[39mnorm(x))\n\u001b[0;32m     20\u001b[0m I\u001b[38;5;241m=\u001b[39mnp\u001b[38;5;241m.\u001b[39meye(\u001b[38;5;241m3\u001b[39m)\n",
      "File \u001b[1;32m<__array_function__ internals>:180\u001b[0m, in \u001b[0;36mlstsq\u001b[1;34m(*args, **kwargs)\u001b[0m\n",
      "File \u001b[1;32mc:\\Users\\youyiting\\anaconda3\\lib\\site-packages\\numpy\\linalg\\linalg.py:2300\u001b[0m, in \u001b[0;36mlstsq\u001b[1;34m(a, b, rcond)\u001b[0m\n\u001b[0;32m   2297\u001b[0m \u001b[38;5;28;01mif\u001b[39;00m n_rhs \u001b[38;5;241m==\u001b[39m \u001b[38;5;241m0\u001b[39m:\n\u001b[0;32m   2298\u001b[0m     \u001b[38;5;66;03m# lapack can't handle n_rhs = 0 - so allocate the array one larger in that axis\u001b[39;00m\n\u001b[0;32m   2299\u001b[0m     b \u001b[38;5;241m=\u001b[39m zeros(b\u001b[38;5;241m.\u001b[39mshape[:\u001b[38;5;241m-\u001b[39m\u001b[38;5;241m2\u001b[39m] \u001b[38;5;241m+\u001b[39m (m, n_rhs \u001b[38;5;241m+\u001b[39m \u001b[38;5;241m1\u001b[39m), dtype\u001b[38;5;241m=\u001b[39mb\u001b[38;5;241m.\u001b[39mdtype)\n\u001b[1;32m-> 2300\u001b[0m x, resids, rank, s \u001b[38;5;241m=\u001b[39m \u001b[43mgufunc\u001b[49m\u001b[43m(\u001b[49m\u001b[43ma\u001b[49m\u001b[43m,\u001b[49m\u001b[43m \u001b[49m\u001b[43mb\u001b[49m\u001b[43m,\u001b[49m\u001b[43m \u001b[49m\u001b[43mrcond\u001b[49m\u001b[43m,\u001b[49m\u001b[43m \u001b[49m\u001b[43msignature\u001b[49m\u001b[38;5;241;43m=\u001b[39;49m\u001b[43msignature\u001b[49m\u001b[43m,\u001b[49m\u001b[43m \u001b[49m\u001b[43mextobj\u001b[49m\u001b[38;5;241;43m=\u001b[39;49m\u001b[43mextobj\u001b[49m\u001b[43m)\u001b[49m\n\u001b[0;32m   2301\u001b[0m \u001b[38;5;28;01mif\u001b[39;00m m \u001b[38;5;241m==\u001b[39m \u001b[38;5;241m0\u001b[39m:\n\u001b[0;32m   2302\u001b[0m     x[\u001b[38;5;241m.\u001b[39m\u001b[38;5;241m.\u001b[39m\u001b[38;5;241m.\u001b[39m] \u001b[38;5;241m=\u001b[39m \u001b[38;5;241m0\u001b[39m\n",
      "File \u001b[1;32mc:\\Users\\youyiting\\anaconda3\\lib\\site-packages\\numpy\\linalg\\linalg.py:101\u001b[0m, in \u001b[0;36m_raise_linalgerror_lstsq\u001b[1;34m(err, flag)\u001b[0m\n\u001b[0;32m    100\u001b[0m \u001b[38;5;28;01mdef\u001b[39;00m \u001b[38;5;21m_raise_linalgerror_lstsq\u001b[39m(err, flag):\n\u001b[1;32m--> 101\u001b[0m     \u001b[38;5;28;01mraise\u001b[39;00m LinAlgError(\u001b[38;5;124m\"\u001b[39m\u001b[38;5;124mSVD did not converge in Linear Least Squares\u001b[39m\u001b[38;5;124m\"\u001b[39m)\n",
      "\u001b[1;31mLinAlgError\u001b[0m: SVD did not converge in Linear Least Squares"
     ]
    }
   ],
   "source": [
    "#主程序\n",
    "def main():\n",
    "    Pose1=[668.72,-160.34,223.71,-0.40,-0.08,64.97]\n",
    "    fix_point1=[298,182.64,289,175.98,294,168.5,309,164.10]\n",
    "    Pose2=[650.34,-197.27,207.11,1.63,-26.12,64.22]\n",
    "    fix_point2=[312,178.20,293,173.25,286,164.70,317,154.80]\n",
    "    Pose3=[693.75,-139.96,230.90,0.24,17.96,65.03]\n",
    "    fix_point3=[309,187.92,287,177.30,294,171.58,313,167.62]\n",
    "    #Pose4=[693.75,-138.96,230.90,0.24,17.96,65.03]\n",
    "    #fix_point4=[309,187.92,287,154.30,294,171.58,313,167.62]\n",
    "    #Pose4=list(map(float,input(\"请输入位姿4的数据:\").split()))\n",
    "    #将固定点的坐标从极坐标转化为直角坐标\n",
    "    fix_point1=axis_transformtion(fix_point1)\n",
    "    fix_point2=axis_transformtion(fix_point2)\n",
    "    fix_point3=axis_transformtion(fix_point3)\n",
    "    #fix_point4=axis_transformtion(fix_point4)\n",
    "    #机械臂末端坐标系相比于机械臂末端坐标系的变换矩阵\n",
    "    TB1=data_transform(Pose1)\n",
    "    TB2=data_transform(Pose2)\n",
    "    TB3=data_transform(Pose3)\n",
    "    #TB4=data_transform(Pose4)\n",
    "    R=246\n",
    "    #标定板固定点相对于激光雷达的变化矩阵\n",
    "    TC1=calculate_fixed_point(fix_point1,R,position=1)\n",
    "    TC2=calculate_fixed_point(fix_point2,R,position=1)\n",
    "    TC3=calculate_fixed_point(fix_point3,R,position=1)\n",
    "    #TC4=calculate_fixed_point(fix_point3,R,position=1)\n",
    "    #cir_point4=calculate_fixed_point(fix_point4,R,position=0)\n",
    "    #参数说明:(fix_point:从激光雷达上读取的4个点的坐标;R:标定物球体的直径;position:如果激光扫到的圆面在大圆上方，则取值1，否则取值为0)\n",
    "    TL1=np.dot(np.linalg.inv(TB1),TB2)\n",
    "    TL2=np.dot(np.linalg.inv(TB2),TB3)\n",
    "    #TL3=np.dot(np.linalg.inv(TB3),TB4)\n",
    "    TR1=np.dot(TC1,np.linalg.inv(TC2))\n",
    "    TR2=np.dot(TC2,np.linalg.inv(TC3))\n",
    "    #TR3=np.dot(TC3,np.linalg.inv(TC4))\n",
    "    A=np.hstack((TL1,TL2))\n",
    "    B=np.hstack((TR1,TR2))\n",
    "    X=tasi(A,B)\n",
    "    print(X)\n",
    "main()"
   ]
  }
 ],
 "metadata": {
  "kernelspec": {
   "display_name": "Python 3",
   "language": "python",
   "name": "python3"
  },
  "language_info": {
   "codemirror_mode": {
    "name": "ipython",
    "version": 3
   },
   "file_extension": ".py",
   "mimetype": "text/x-python",
   "name": "python",
   "nbconvert_exporter": "python",
   "pygments_lexer": "ipython3",
   "version": "3.10.9"
  }
 },
 "nbformat": 4,
 "nbformat_minor": 2
}
