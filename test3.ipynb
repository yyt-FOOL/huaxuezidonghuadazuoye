{
 "cells": [
  {
   "cell_type": "code",
   "execution_count": 23,
   "metadata": {},
   "outputs": [],
   "source": [
    "import numpy as np\n",
    "from math import cos,sin,pi"
   ]
  },
  {
   "cell_type": "code",
   "execution_count": 25,
   "metadata": {},
   "outputs": [],
   "source": [
    "def calculate_fixed_point(fix_point,R,position):\n",
    "    k1=(fix_point[3]-fix_point[1])/(fix_point[2]-fix_point[0])#k1=(y2-y1)/(x2-x1)\n",
    "    k2=(fix_point[7]-fix_point[5])/(fix_point[6]-fix_point[4])#k2=(y4-y3)/(x4-x3)\n",
    "    k11=-1/k1#垂直平分线1的斜率\n",
    "    k22=-1/k2#垂直平分线2的斜率\n",
    "    x01=(fix_point[0]+fix_point[2])/2#x01=(x1+x2)/2——中点1的横坐标\n",
    "    y01=(fix_point[1]+fix_point[3])/2#y01=(y1+y2)/2——中点1的纵坐标\n",
    "    x02=(fix_point[4]+fix_point[6])/2#x02=(x3+x4)/2——中点2的横坐标\n",
    "    y02=(fix_point[5]+fix_point[7])/2#y02=(y3+y4)/2——中点2的纵坐标\n",
    "    x=((k11*x01-y01)-(k22*x02-y02))/(k11-k22)\n",
    "    y=k11*(x-x01)+y01#(x,y)为圆心O'的坐标\n",
    "    r2=(x-fix_point[0])**2+(y-fix_point[1])**2\n",
    "    #得到圆心的x,y坐标后还需要求解z坐标\n",
    "    distance=(R**2-r2)**0.5#z方向的垂直距离\n",
    "    if position==1:\n",
    "        z=-distance\n",
    "    else:\n",
    "        z=distance\n",
    "    circle_point=np.array([x,y,z]).reshape(-1,1)\n",
    "    I=np.eye(3)\n",
    "    h_stack=np.hstack((I,circle_point))\n",
    "    one=np.array([0,0,0,1])\n",
    "    TC=np.vstack((h_stack,one))\n",
    "    return TC"
   ]
  },
  {
   "cell_type": "code",
   "execution_count": 26,
   "metadata": {},
   "outputs": [],
   "source": [
    "def axis_transformtion(x):\n",
    "    result=[]\n",
    "    for i in [0,2,4,6]:\n",
    "        x0=x[i]*cos(x[i+1]/180*pi)\n",
    "        y0=x[i]*sin(x[i+1]/180*pi)\n",
    "        result.append(x0)\n",
    "        result.append(y0)\n",
    "    return result"
   ]
  },
  {
   "cell_type": "code",
   "execution_count": 27,
   "metadata": {},
   "outputs": [
    {
     "name": "stdout",
     "output_type": "stream",
     "text": [
      "[2.9926921507794724, 0.2092694212323759, 4.972609476841367, 0.5226423163382673, 6.931876481190993, 0.9742117067204581, 7.878462024097664, 1.3891854213354426]\n",
      "[[   1.            0.            0.            1.84672582]\n",
      " [   0.            1.            0.           13.86091657]\n",
      " [   0.            0.            1.         -245.61823892]\n",
      " [   0.            0.            0.            1.        ]]\n"
     ]
    }
   ],
   "source": [
    "fix_point1=list(map(float,input(\"请输入位姿1下点云数据中的4个点:\").split()))\n",
    "fix_point1=axis_transformtion(fix_point1)\n",
    "print(fix_point1)\n",
    "R=246\n",
    "TC1=calculate_fixed_point(fix_point1,R,position=1)\n",
    "print(TC1)"
   ]
  }
 ],
 "metadata": {
  "kernelspec": {
   "display_name": "Python 3",
   "language": "python",
   "name": "python3"
  },
  "language_info": {
   "codemirror_mode": {
    "name": "ipython",
    "version": 3
   },
   "file_extension": ".py",
   "mimetype": "text/x-python",
   "name": "python",
   "nbconvert_exporter": "python",
   "pygments_lexer": "ipython3",
   "version": "3.10.9"
  }
 },
 "nbformat": 4,
 "nbformat_minor": 2
}
