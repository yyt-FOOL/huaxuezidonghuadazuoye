{
 "cells": [
  {
   "cell_type": "code",
   "execution_count": 7,
   "metadata": {},
   "outputs": [],
   "source": [
    "import numpy as np\n",
    "import matplotlib.pyplot as plt\n",
    "from math import pi,cos,sin\n",
    "from scipy.linalg import logm\n",
    "from scipy.optimize import least_squares"
   ]
  },
  {
   "cell_type": "code",
   "execution_count": 2,
   "metadata": {},
   "outputs": [],
   "source": [
    "#将从示教器读取的数据转化为旋转矩阵和平移矩阵\n",
    "def data_transform(M):\n",
    "    T=np.array(M[:3]).reshape(-1,1)\n",
    "    rota=M[3]*pi/180\n",
    "    rotb=M[4]*pi/180\n",
    "    rotc=M[5]*pi/180\n",
    "    Rx=np.array([[1,0,0],[0,cos(rota),-sin(rota)],[0,sin(rota),cos(rota)]])\n",
    "    Ry=np.array([[cos(rotb),0,sin(rotb)],[0,1,0],[-sin(rotb),0,cos(rotb)]])\n",
    "    Rz=np.array([[cos(rotc),-sin(rotc),0],[sin(rotc),cos(rotc),0],[0,0,1]])\n",
    "    R=np.dot(Rz,np.dot(Ry,Rx))\n",
    "    h_stack=np.hstack((R,T))\n",
    "    one=np.array([0,0,0,1])\n",
    "    TR=np.vstack((h_stack,one))\n",
    "    return TR"
   ]
  },
  {
   "cell_type": "code",
   "execution_count": 4,
   "metadata": {},
   "outputs": [],
   "source": [
    "def axis_transformtion(x):\n",
    "    result=[]\n",
    "    for i in [0,2,4,6]:\n",
    "        x0=x[i]*cos(x[i+1]/180*pi)\n",
    "        y0=x[i]*sin(x[i+1]/180*pi)\n",
    "        result.append(x0)\n",
    "        result.append(y0)\n",
    "    return result"
   ]
  },
  {
   "cell_type": "code",
   "execution_count": 5,
   "metadata": {},
   "outputs": [],
   "source": [
    "def calculate_fixed_point(fix_point,R,position):\n",
    "    k1=(fix_point[3]-fix_point[1])/(fix_point[2]-fix_point[0])#k1=(y2-y1)/(x2-x1)\n",
    "    k2=(fix_point[7]-fix_point[5])/(fix_point[6]-fix_point[4])#k2=(y4-y3)/(x4-x3)\n",
    "    k11=-1/k1#垂直平分线1的斜率\n",
    "    k22=-1/k2#垂直平分线2的斜率\n",
    "    x01=(fix_point[0]+fix_point[2])/2#x01=(x1+x2)/2——中点1的横坐标\n",
    "    y01=(fix_point[1]+fix_point[3])/2#y01=(y1+y2)/2——中点1的纵坐标\n",
    "    x02=(fix_point[4]+fix_point[6])/2#x02=(x3+x4)/2——中点2的横坐标\n",
    "    y02=(fix_point[5]+fix_point[7])/2#y02=(y3+y4)/2——中点2的纵坐标\n",
    "    x=((k11*x01-y01)-(k22*x02-y02))/(k11-k22)\n",
    "    y=k11*(x-x01)+y01#(x,y)为圆心O'的坐标\n",
    "    r2=(x-fix_point[0])**2+(y-fix_point[1])**2\n",
    "    #得到圆心的x,y坐标后还需要求解z坐标\n",
    "    distance=(R**2-r2)**0.5#z方向的垂直距离\n",
    "    if position==1:\n",
    "        z=-distance\n",
    "    else:\n",
    "        z=distance\n",
    "    circle_point=np.array([x,y,z]).reshape(-1,1)\n",
    "    I=np.eye(3)\n",
    "    h_stack=np.hstack((I,circle_point))\n",
    "    one=np.array([0,0,0,1])\n",
    "    TC=np.vstack((h_stack,one))\n",
    "    return TC\n",
    "\n",
    "    "
   ]
  },
  {
   "cell_type": "code",
   "execution_count": 19,
   "metadata": {},
   "outputs": [],
   "source": [
    "def skew(x):\n",
    "    sk=np.array([[0,-x[2,0],x[1,0]],\n",
    "                 [x[2,0],0,-x[0,0]],\n",
    "                 [-x[1,0],x[0,0],0]\n",
    "                 ])\n",
    "    return sk"
   ]
  },
  {
   "cell_type": "code",
   "execution_count": 20,
   "metadata": {},
   "outputs": [],
   "source": [
    "#通过tasi算法计算手眼标定矩阵\n",
    "#函数说明：计算AX=XB解的最小方差\n",
    "#算法作者:Lenz Shah\n",
    "def tasi(A,B):\n",
    "    n=int(A.shape[1]/4)#获取方程的个数\n",
    "    S=np.zeros((3*n,3))#用于存储计算得到的旋转矩阵\n",
    "    v=np.zeros((3*n,1))#用于存储计算得到的平移矩阵\n",
    "    #计算最佳的旋转矩阵R\n",
    "    for i in range(n):\n",
    "        A1=logm(A[0:3,4*i:4*i+3])\n",
    "        B1=logm(B[0:3,4*i:4*i+3])\n",
    "        a=np.array([A1[2,1],A1[0,2],A1[1,0]]).reshape(-1,1)\n",
    "        a=a/np.linalg.norm(a)\n",
    "        b=np.array([B1[2,1],B1[0,2],B1[1,0]]).reshape(-1,1)\n",
    "        b=b/np.linalg.norm(b)\n",
    "        S[3*i:3*(i+1),:]=skew(a+b)\n",
    "        v[3*i:3*(i+1),:]=a-b\n",
    "    x,residuals,rank,s=np.linalg.lstsq(S,v,rcond=None)#求解AX=B线性方程组的解\n",
    "    theta=2*np.arctan(np.linalg.norm(x))\n",
    "    I=np.eye(3)\n",
    "    xxt=np.outer(x,x)#计算外积矩阵\n",
    "    R_T=I*np.cos(theta)+np.sin(theta)*skew(x)+(1-cos(theta))*xxt\n",
    "    R=R_T.T\n",
    "    #计算最佳平移矩阵T\n",
    "    C=np.zeros((3*n,3))\n",
    "    d=np.zeros((3*n,1))\n",
    "    for i in range(n):\n",
    "        C[3*i:3*(i+1),:]=I-A[0:3,4*i:4*i+3]\n",
    "        d[3*i:3*(i+1),:]=A[0:3,4*i+3].reshape(-1,1)-np.dot(R,B[0:3,4*i+3].reshape(-1,1))\n",
    "    t,residuals,rank,s=np.linalg.lstsq(C,d,rcond=None)\n",
    "    X1=np.hstack((R,t))\n",
    "    X=np.vstack((X1,np.array([0,0,0,1])))\n",
    "    return X"
   ]
  },
  {
   "cell_type": "code",
   "execution_count": 9,
   "metadata": {},
   "outputs": [],
   "source": [
    "def calculate_P0(TB,X,P):\n",
    "    P0=np.dot(TB,np.dot(X,P))\n",
    "    return P0"
   ]
  },
  {
   "cell_type": "code",
   "execution_count": 21,
   "metadata": {},
   "outputs": [],
   "source": [
    "#主程序\n",
    "def main():\n",
    "    #输入数据\n",
    "    Pose1=list(map(float,input(\"请输入位姿1的数据:\").split()))\n",
    "    fix_point1=list(map(float,input(\"请输入位姿1下点云数据中的4个点:\").split()))\n",
    "    Pose2=list(map(float,input(\"请输入位姿2的数据:\").split()))\n",
    "    fix_point2=list(map(float,input(\"请输入位姿2下点云数据中的4个点:\").split()))\n",
    "    Pose3=list(map(float,input(\"请输入位姿3的数据:\").split()))\n",
    "    fix_point3=list(map(float,input(\"请输入位姿3下点云数据中的4个点:\").split()))\n",
    "    #将固定点的坐标从极坐标转化为直角坐标\n",
    "    fix_point1=axis_transformtion(fix_point1)\n",
    "    fix_point2=axis_transformtion(fix_point2)\n",
    "    fix_point3=axis_transformtion(fix_point3)\n",
    "    fix_point4=axis_transformtion(fix_point4)\n",
    "    fix_point5=axis_transformtion(fix_point5)\n",
    "    #机械臂末端坐标系相比于机械臂末端坐标系的变换矩阵\n",
    "    TB1=data_transform(Pose1)\n",
    "    TB2=data_transform(Pose2)\n",
    "    TB3=data_transform(Pose3)\n",
    "    R=246\n",
    "    #计算原点\n",
    "    TC1=calculate_fixed_point(fix_point1,R,position=0)\n",
    "    TC2=calculate_fixed_point(fix_point2,R,position=0)\n",
    "    TC3=calculate_fixed_point(fix_point3,R,position=0)\n",
    "    #参数说明:(fix_point:从激光雷达上读取的4个点的坐标;R:标定物球体的直径;position:如果激光扫到的圆面在大圆上方，则取值1，否则取值为0)\n",
    "    TL1=np.dot(np.linalg.inv(TB1),TB2)\n",
    "    TL2=np.dot(np.linalg.inv(TB2),TB3)\n",
    "    TR1=np.dot(TC1,np.linalg.inv(TC2))\n",
    "    TR2=np.dot(TC2,np.linalg.inv(TC3))\n",
    "    A=[TL1,TL2]\n",
    "    B=[TR1,TR2]\n",
    "    #计算转化矩阵\n",
    "    X=tasi(A,B)\n",
    "    print(X)\n",
    "main()\n",
    "\n",
    "\n"
   ]
  }
 ],
 "metadata": {
  "kernelspec": {
   "display_name": "Python 3",
   "language": "python",
   "name": "python3"
  },
  "language_info": {
   "codemirror_mode": {
    "name": "ipython",
    "version": 3
   },
   "file_extension": ".py",
   "mimetype": "text/x-python",
   "name": "python",
   "nbconvert_exporter": "python",
   "pygments_lexer": "ipython3",
   "version": "3.10.9"
  }
 },
 "nbformat": 4,
 "nbformat_minor": 2
}
